{
 "cells": [
  {
   "cell_type": "code",
   "execution_count": 1,
   "metadata": {},
   "outputs": [
    {
     "name": "stdout",
     "output_type": "stream",
     "text": [
      "importing Jupyter notebook from Ladder_GNP.ipynb\n"
     ]
    }
   ],
   "source": [
    "from tqdm import tqdm\n",
    "import torchvision\n",
    "import torch as t\n",
    "from torch.utils.data import DataLoader\n",
    "from preprocess import collate_fn, test_collate_fn\n",
    "import os\n",
    "from datetime import datetime\n",
    "import numpy as np\n",
    "\n",
    "import import_ipynb\n",
    "from Ladder_GNP import get_model\n",
    "\n",
    "import matplotlib.pyplot as plt\n",
    "%matplotlib inline"
   ]
  },
  {
   "cell_type": "code",
   "execution_count": 2,
   "metadata": {},
   "outputs": [],
   "source": [
    "def plot_img(model, dloader):\n",
    "    fig = plt.figure()\n",
    "    model.eval()\n",
    "    for i, d in enumerate(dloader):\n",
    "        context_x, context_y, target_x, target_y = d\n",
    "        context_x = context_x.cuda()\n",
    "        context_y = context_y.cuda()\n",
    "        target_x = target_x.cuda()\n",
    "        pred_y, _, _ = model(context_x, context_y, target_x, None) # Test\n",
    "\n",
    "        #fig.add_subplot(1,2,1)\n",
    "        #fig.add_subplot(1,2,2)\n",
    "        subplot = fig.add_subplot(1, 2, 1)\n",
    "        subplot.axis('off')\n",
    "        subplot.imshow(target_y.squeeze(0).view(-1,28).detach().numpy(), cmap='gray')\n",
    "        subplot = fig.add_subplot(1, 2, 2)\n",
    "        subplot.axis('off')\n",
    "        subplot.imshow(pred_y.cpu().squeeze(0).view(-1,28).detach().numpy(), cmap='gray')\n",
    "\n",
    "        if i == 1:\n",
    "            break\n",
    "    plt.show()"
   ]
  },
  {
   "cell_type": "code",
   "execution_count": 3,
   "metadata": {},
   "outputs": [],
   "source": [
    "def main(model_name = 'LGNP'):\n",
    "    train_dataset = torchvision.datasets.MNIST('./mnist', train=True, download=False)\n",
    "    data_len = len(train_dataset)\n",
    "    test_dataset = torchvision.datasets.MNIST('./mnist', train=False, download=True)\n",
    "    test_data_len = len(test_dataset)\n",
    "    epochs = 100001\n",
    "    PLOT_AFTER = 10000\n",
    "    model = get_model().cuda()\n",
    "    model.train()\n",
    "    \n",
    "    optim = t.optim.Adam(model.parameters(), lr=1e-4)\n",
    "    global_step = 0\n",
    "    start = datetime.now()    \n",
    "    for epoch in range(epochs):\n",
    "        np.random.seed(epoch)\n",
    "        indices = np.random.choice(range(data_len), 16, replace=False)\n",
    "        dataset = t.utils.data.Subset(train_dataset, indices)\n",
    "        dloader = DataLoader(dataset, batch_size=16, collate_fn=collate_fn, shuffle=False, num_workers=0)\n",
    "        #pbar = tqdm(dloader)\n",
    "        for i, data in enumerate(dloader):\n",
    "            global_step += 1\n",
    "            context_x, context_y, target_x, target_y = data\n",
    "            context_x = context_x.cuda()\n",
    "            context_y = context_y.cuda()\n",
    "            target_x = target_x.cuda()\n",
    "            target_y = target_y.cuda()\n",
    "            model.train()\n",
    "            # pass through the latent model\n",
    "            y_pred, kl, loss = model(context_x, context_y, target_x, target_y)\n",
    "            \n",
    "            # Training step\n",
    "            optim.zero_grad()\n",
    "            loss.backward()\n",
    "            optim.step()\n",
    "                \n",
    "        if epoch % PLOT_AFTER == 0:\n",
    "            elapsed = (datetime.now() - start).total_seconds()\n",
    "            # save model by each epoch    \n",
    "            print('Iteration: {}, loss: {:.5f}, time: {:.5f}'.format(epoch, loss, elapsed))\n",
    "            t.save({model_name:model.state_dict(),\n",
    "                                     'optimizer':optim.state_dict()},\n",
    "                                    os.path.join('./checkpoint','%s_%d.pth.tar' % (model_name, epoch+1)))\n",
    "            np.random.seed(epoch)\n",
    "            tindices = np.random.choice(range(test_data_len), 1, replace=False)\n",
    "            tdataset = t.utils.data.Subset(test_dataset, tindices)\n",
    "            tdloader = DataLoader(tdataset, batch_size=1, collate_fn=test_collate_fn, shuffle=False, num_workers=0)\n",
    "            plot_img(model, tdloader)\n",
    "            model.train()"
   ]
  },
  {
   "cell_type": "code",
   "execution_count": 4,
   "metadata": {},
   "outputs": [
    {
     "name": "stdout",
     "output_type": "stream",
     "text": [
      "Iteration: 0, loss: 0.73545, time: 0.59361\n"
     ]
    },
    {
     "data": {
      "image/png": "[encoded data removed]",
      "text/plain": [
       "<Figure size 432x288 with 2 Axes>"
      ]
     },
     "metadata": {
      "needs_background": "light"
     },
     "output_type": "display_data"
    },
    {
     "name": "stdout",
     "output_type": "stream",
     "text": [
      "Iteration: 10000, loss: -0.58424, time: 3169.65294\n"
     ]
    },
    {
     "data": {
      "image/png": "[encoded data removed]",
      "text/plain": [
       "<Figure size 432x288 with 2 Axes>"
      ]
     },
     "metadata": {
      "needs_background": "light"
     },
     "output_type": "display_data"
    },
    {
     "name": "stdout",
     "output_type": "stream",
     "text": [
      "Iteration: 20000, loss: -0.74379, time: 6318.01179\n"
     ]
    },
    {
     "data": {
      "image/png": "[encoded data removed]",
      "text/plain": [
       "<Figure size 432x288 with 2 Axes>"
      ]
     },
     "metadata": {
      "needs_background": "light"
     },
     "output_type": "display_data"
    },
    {
     "name": "stdout",
     "output_type": "stream",
     "text": [
      "Iteration: 30000, loss: -0.69218, time: 9476.14383\n"
     ]
    },
    {
     "data": {
      "image/png": "[encoded data removed]",
      "text/plain": [
       "<Figure size 432x288 with 2 Axes>"
      ]
     },
     "metadata": {
      "needs_background": "light"
     },
     "output_type": "display_data"
    },
    {
     "name": "stdout",
     "output_type": "stream",
     "text": [
      "Iteration: 40000, loss: -0.73902, time: 13503.95111\n"
     ]
    },
    {
     "data": {
      "image/png": "[encoded data removed]",
      "text/plain": [
       "<Figure size 432x288 with 2 Axes>"
      ]
     },
     "metadata": {
      "needs_background": "light"
     },
     "output_type": "display_data"
    },
    {
     "name": "stdout",
     "output_type": "stream",
     "text": [
      "Iteration: 50000, loss: -0.72805, time: 17551.33263\n"
     ]
    },
    {
     "data": {
      "image/png": "[encoded data removed]",
      "text/plain": [
       "<Figure size 432x288 with 2 Axes>"
      ]
     },
     "metadata": {
      "needs_background": "light"
     },
     "output_type": "display_data"
    },
    {
     "name": "stdout",
     "output_type": "stream",
     "text": [
      "Iteration: 60000, loss: -0.64053, time: 21589.84794\n"
     ]
    },
    {
     "data": {
      "image/png": "[encoded data removed]",
      "text/plain": [
       "<Figure size 432x288 with 2 Axes>"
      ]
     },
     "metadata": {
      "needs_background": "light"
     },
     "output_type": "display_data"
    },
    {
     "name": "stdout",
     "output_type": "stream",
     "text": [
      "Iteration: 70000, loss: -0.71220, time: 25646.54009\n"
     ]
    },
    {
     "data": {
      "image/png": "[encoded data removed]",
      "text/plain": [
       "<Figure size 432x288 with 2 Axes>"
      ]
     },
     "metadata": {
      "needs_background": "light"
     },
     "output_type": "display_data"
    },
    {
     "name": "stdout",
     "output_type": "stream",
     "text": [
      "Iteration: 80000, loss: -0.81709, time: 29704.09334\n"
     ]
    },
    {
     "data": {
      "image/png": "[encoded data removed]",
      "text/plain": [
       "<Figure size 432x288 with 2 Axes>"
      ]
     },
     "metadata": {
      "needs_background": "light"
     },
     "output_type": "display_data"
    },
    {
     "name": "stdout",
     "output_type": "stream",
     "text": [
      "Iteration: 90000, loss: -0.80151, time: 33766.52272\n"
     ]
    },
    {
     "data": {
      "image/png": "[encoded data removed]",
      "text/plain": [
       "<Figure size 432x288 with 2 Axes>"
      ]
     },
     "metadata": {
      "needs_background": "light"
     },
     "output_type": "display_data"
    },
    {
     "name": "stdout",
     "output_type": "stream",
     "text": [
      "Iteration: 100000, loss: -0.82855, time: 37812.93473\n"
     ]
    },
    {
     "data": {
      "image/png": "[encoded data removed]",
      "text/plain": [
       "<Figure size 432x288 with 2 Axes>"
      ]
     },
     "metadata": {
      "needs_background": "light"
     },
     "output_type": "display_data"
    }
   ],
   "source": [
    "if __name__ == '__main__':\n",
    "    main()"
   ]
  },
  {
   "cell_type": "code",
   "execution_count": null,
   "metadata": {},
   "outputs": [],
   "source": []
  }
 ],
 "metadata": {
  "kernelspec": {
   "display_name": "Python 3",
   "language": "python",
   "name": "python3"
  },
  "language_info": {
   "codemirror_mode": {
    "name": "ipython",
    "version": 3
   },
   "file_extension": ".py",
   "mimetype": "text/x-python",
   "name": "python",
   "nbconvert_exporter": "python",
   "pygments_lexer": "ipython3",
   "version": "3.7.3"
  }
 },
 "nbformat": 4,
 "nbformat_minor": 2
}
