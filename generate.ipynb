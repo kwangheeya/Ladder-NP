{
 "cells": [
  {
   "cell_type": "code",
   "execution_count": 1,
   "metadata": {},
   "outputs": [],
   "source": [
    "import torchvision\n",
    "import numpy as np\n",
    "from torch.utils.data import DataLoader\n",
    "import torch as t\n",
    "\n",
    "from matplotlib import pyplot as plt\n",
    "%matplotlib inline"
   ]
  },
  {
   "cell_type": "code",
   "execution_count": 2,
   "metadata": {},
   "outputs": [],
   "source": [
    "def collate_fn(batch):\n",
    "\n",
    "    # Puts each data field into a tensor with outer dimension batch size\n",
    "    assert isinstance(batch[0], tuple)\n",
    "    trans = torchvision.transforms.ToTensor()\n",
    "    batch_size = len(batch)\n",
    "    \n",
    "    num_total_points = 784\n",
    "    context_x, context_y, target_x, target_y = list(), list(), list(), list()\n",
    "    conditional_y = list()\n",
    "    for d, _ in batch:\n",
    "        d = trans(d)\n",
    "        total_idx = range(784)\n",
    "        total_idx = list(map(lambda x: (x//28, x%28), total_idx))\n",
    "        c_idx = None\n",
    "        if get_top_half:\n",
    "            c_idx = range(392)\n",
    "            c_idx = list(map(lambda x: (x//28, x%28), c_idx))\n",
    "        elif get_left_half:\n",
    "            c_idx = range(392)\n",
    "            c_idx = list(map(lambda x: (x%28, x//28), c_idx))\n",
    "        else:\n",
    "            c_idx = np.random.choice(range(784), num_total_points, replace=False)\n",
    "            c_idx = list(map(lambda x: (x//28, x%28), c_idx))\n",
    "            c_idx = c_idx[:num_context]\n",
    "        c_x, c_y, total_x, total_y = list(), list(), list(), list()\n",
    "        f_y = list()\n",
    "        for idx in c_idx:\n",
    "            c_y.append(d[:, idx[0], idx[1]])\n",
    "            c_x.append((idx[0] / 27., idx[1] / 27.))\n",
    "        for idx in total_idx:\n",
    "            total_y.append(d[:, idx[0], idx[1]])\n",
    "            total_x.append((idx[0] / 27., idx[1] / 27.))\n",
    "            if idx in c_idx:\n",
    "                f_y.append(d[:, idx[0], idx[1]])\n",
    "            else:\n",
    "                f_y.append(0)\n",
    "        c_x, c_y, total_x, total_y, f_y = list(map(lambda x: t.FloatTensor(x), (c_x, c_y, total_x, total_y, f_y)))\n",
    "        context_x.append(c_x)\n",
    "        context_y.append(c_y)\n",
    "        target_x.append(total_x)\n",
    "        target_y.append(total_y)\n",
    "        conditional_y.append(f_y) \n",
    "        \n",
    "        \n",
    "    context_x = t.stack(context_x, dim=0)\n",
    "    context_y = t.stack(context_y, dim=0).unsqueeze(-1)\n",
    "    target_x = t.stack(target_x, dim=0)\n",
    "    target_y = t.stack(target_y, dim=0).unsqueeze(-1)\n",
    "    conditional_y = t.stack(conditional_y, dim=0).unsqueeze(-1)\n",
    "    \n",
    "    return context_x, context_y, target_x, target_y, conditional_y"
   ]
  },
  {
   "cell_type": "code",
   "execution_count": 3,
   "metadata": {},
   "outputs": [],
   "source": [
    "def plot_img(model, dloader):\n",
    "    fig = plt.figure()\n",
    "    model.eval()\n",
    "    for i, d in enumerate(dloader):\n",
    "        context_x, context_y, target_x, target_y, conditional_y = d\n",
    "        context_x = context_x.cuda()\n",
    "        context_y = context_y.cuda()\n",
    "        target_x = target_x.cuda()\n",
    "        pred_y, _, _ = model(context_x, context_y, target_x, None) # Test\n",
    "\n",
    "        #fig.add_subplot(1,2,1)\n",
    "        #fig.add_subplot(1,2,2)\n",
    "        subplot = fig.add_subplot(1, 2, 1)\n",
    "        subplot.axis('off')\n",
    "        subplot.imshow(target_y.squeeze(0).view(-1,28).detach().numpy(), cmap='gray')\n",
    "        subplot = fig.add_subplot(1, 2, 2)\n",
    "        subplot.axis('off')\n",
    "        subplot.imshow(pred_y.cpu().squeeze(0).view(-1,28).detach().numpy(), cmap='gray')\n",
    "\n",
    "        if i == 1:\n",
    "            break\n",
    "    plt.show()"
   ]
  },
  {
   "cell_type": "code",
   "execution_count": 4,
   "metadata": {},
   "outputs": [
    {
     "name": "stdout",
     "output_type": "stream",
     "text": [
      "importing Jupyter notebook from ANP.ipynb\n",
      "importing Jupyter notebook from NP.ipynb\n",
      "importing Jupyter notebook from Gated_NP.ipynb\n",
      "importing Jupyter notebook from Ladder_GNP.ipynb\n"
     ]
    },
    {
     "data": {
      "text/plain": [
       "IncompatibleKeys(missing_keys=[], unexpected_keys=[])"
      ]
     },
     "execution_count": 4,
     "metadata": {},
     "output_type": "execute_result"
    }
   ],
   "source": [
    "import import_ipynb\n",
    "from ANP import get_model as ag\n",
    "from NP import get_model as ng\n",
    "from Gated_NP import get_model as gg\n",
    "from Ladder_GNP import get_model as lg\n",
    "\n",
    "model_name = 'LGNP'\n",
    "model = None\n",
    "if model_name == 'NP':\n",
    "    model = ng().cuda()\n",
    "elif model_name == 'ANP':\n",
    "    model = ag().cuda()\n",
    "elif model_name == 'GNP':\n",
    "    model = gg().cuda()\n",
    "elif model_name == 'LGNP':\n",
    "    model = lg().cuda()\n",
    "state_dict = t.load('./checkpoint/'+model_name+'_'+'100001.pth.tar')\n",
    "model.load_state_dict(state_dict=state_dict[model_name])"
   ]
  },
  {
   "cell_type": "code",
   "execution_count": 5,
   "metadata": {},
   "outputs": [
    {
     "data": {
      "image/png": "[encoded data removed]",
      "text/plain": [
       "<Figure size 432x288 with 10 Axes>"
      ]
     },
     "metadata": {
      "needs_background": "light"
     },
     "output_type": "display_data"
    }
   ],
   "source": [
    "get_top_half=False\n",
    "get_left_half=False\n",
    "num_contexts = [10, 30, 100, 300, 784]\n",
    "\n",
    "test_dataset = torchvision.datasets.MNIST('./mnist', train=False, download=False)\n",
    "test_data_len = len(test_dataset)\n",
    "np.random.seed(94) #80\n",
    "tindices = np.random.choice(range(test_data_len), 1, replace=False)\n",
    "tdataset = t.utils.data.Subset(test_dataset, tindices)\n",
    "fig = plt.figure()\n",
    "for j, n in enumerate(num_contexts):\n",
    "    num_context = n # half of total points\n",
    "    \n",
    "    dloader = DataLoader(tdataset, batch_size=1, collate_fn=collate_fn, shuffle=False)\n",
    "    \n",
    "    model.eval()\n",
    "    for i, d in enumerate(dloader):\n",
    "        context_x, context_y, target_x, target_y, conditional_y = d\n",
    "        context_x = context_x.cuda()\n",
    "        context_y = context_y.cuda()\n",
    "        target_x = target_x.cuda()\n",
    "        t.manual_seed(0)\n",
    "        pred_y, _, _ = model(context_x, context_y, target_x, None) # Test\n",
    "        #fig.add_subplot(1,2,1)\n",
    "        #fig.add_subplot(1,2,2)\n",
    "        subplot = fig.add_subplot(2, len(num_contexts), j+1)\n",
    "        subplot.axis('off')\n",
    "        subplot.imshow(conditional_y.squeeze(0).view(-1,28).detach().numpy(), cmap='gray')\n",
    "        subplot = fig.add_subplot(2, len(num_contexts), len(num_contexts)+j+1)\n",
    "        subplot.axis('off')\n",
    "        subplot.imshow(pred_y.cpu().squeeze(0).view(-1,28).detach().numpy(), cmap='gray')\n",
    "\n",
    "plt.show()"
   ]
  },
  {
   "cell_type": "code",
   "execution_count": 6,
   "metadata": {},
   "outputs": [
    {
     "data": {
      "image/png": "[encoded data removed]",
      "text/plain": [
       "<Figure size 432x288 with 10 Axes>"
      ]
     },
     "metadata": {
      "needs_background": "light"
     },
     "output_type": "display_data"
    }
   ],
   "source": [
    "get_top_half=True\n",
    "get_left_half=False\n",
    "\n",
    "test_dataset = torchvision.datasets.MNIST('./mnist', train=False, download=False)\n",
    "test_data_len = len(test_dataset)\n",
    "\n",
    "num_context = 200\n",
    "dloader = DataLoader(tdataset, batch_size=1, collate_fn=collate_fn, shuffle=False)\n",
    "fig = plt.figure()\n",
    "for j, n in enumerate(num_contexts):\n",
    "    num_context = n # half of total points\n",
    "    \n",
    "    model.eval()\n",
    "    for i, d in enumerate(dloader):\n",
    "        context_x, context_y, target_x, target_y, conditional_y = d\n",
    "        context_x = context_x.cuda()\n",
    "        context_y = context_y.cuda()\n",
    "        target_x = target_x.cuda()\n",
    "        t.manual_seed(j)\n",
    "        pred_y, _, _ = model(context_x, context_y, target_x, None) # Test\n",
    "\n",
    "        #fig.add_subplot(1,2,1)\n",
    "        #fig.add_subplot(1,2,2)\n",
    "        subplot = fig.add_subplot(2, len(num_contexts), j+1)\n",
    "        subplot.axis('off')\n",
    "        subplot.imshow(conditional_y.squeeze(0).view(-1,28).detach().numpy(), cmap='gray')\n",
    "        subplot = fig.add_subplot(2, len(num_contexts), len(num_contexts)+j+1)\n",
    "        subplot.axis('off')\n",
    "        subplot.imshow(pred_y.cpu().squeeze(0).view(-1,28).detach().numpy(), cmap='gray')\n",
    "\n",
    "plt.show()"
   ]
  },
  {
   "cell_type": "code",
   "execution_count": 7,
   "metadata": {},
   "outputs": [
    {
     "data": {
      "image/png": "[encoded data removed]",
      "text/plain": [
       "<Figure size 432x288 with 10 Axes>"
      ]
     },
     "metadata": {
      "needs_background": "light"
     },
     "output_type": "display_data"
    }
   ],
   "source": [
    "get_top_half=False\n",
    "get_left_half=True\n",
    "\n",
    "test_dataset = torchvision.datasets.MNIST('./mnist', train=False, download=False)\n",
    "test_data_len = len(test_dataset)\n",
    "\n",
    "num_context = 200\n",
    "dloader = DataLoader(tdataset, batch_size=1, collate_fn=collate_fn, shuffle=False)\n",
    "fig = plt.figure()\n",
    "for j, n in enumerate(num_contexts):\n",
    "    num_context = n # half of total points\n",
    "    \n",
    "    model.eval()\n",
    "    for i, d in enumerate(dloader):\n",
    "        context_x, context_y, target_x, target_y, conditional_y = d\n",
    "        context_x = context_x.cuda()\n",
    "        context_y = context_y.cuda()\n",
    "        target_x = target_x.cuda()\n",
    "        t.manual_seed(j)\n",
    "        pred_y, _, _ = model(context_x, context_y, target_x, None) # Test\n",
    "\n",
    "        #fig.add_subplot(1,2,1)\n",
    "        #fig.add_subplot(1,2,2)\n",
    "        subplot = fig.add_subplot(2, len(num_contexts), j+1)\n",
    "        subplot.axis('off')\n",
    "        subplot.imshow(conditional_y.squeeze(0).view(-1,28).detach().numpy(), cmap='gray')\n",
    "        subplot = fig.add_subplot(2, len(num_contexts), len(num_contexts)+j+1)\n",
    "        subplot.axis('off')\n",
    "        subplot.imshow(pred_y.cpu().squeeze(0).view(-1,28).detach().numpy(), cmap='gray')\n",
    "\n",
    "plt.show()"
   ]
  },
  {
   "cell_type": "code",
   "execution_count": null,
   "metadata": {},
   "outputs": [],
   "source": []
  }
 ],
 "metadata": {
  "kernelspec": {
   "display_name": "Python 3",
   "language": "python",
   "name": "python3"
  },
  "language_info": {
   "codemirror_mode": {
    "name": "ipython",
    "version": 3
   },
   "file_extension": ".py",
   "mimetype": "text/x-python",
   "name": "python",
   "nbconvert_exporter": "python",
   "pygments_lexer": "ipython3",
   "version": "3.7.3"
  }
 },
 "nbformat": 4,
 "nbformat_minor": 2
}
